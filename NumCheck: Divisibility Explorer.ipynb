{
  "nbformat": 4,
  "nbformat_minor": 0,
  "metadata": {
    "colab": {
      "provenance": [],
      "include_colab_link": true
    },
    "kernelspec": {
      "name": "python3",
      "display_name": "Python 3"
    },
    "language_info": {
      "name": "python"
    }
  },
  "cells": [
    {
      "cell_type": "markdown",
      "metadata": {
        "id": "view-in-github",
        "colab_type": "text"
      },
      "source": [
        "<a href=\"https://colab.research.google.com/github/SeeratSandha/NumCheck/blob/main/NumCheck%3A%20Divisibility%20Explorer.ipynb\" target=\"_parent\"><img src=\"https://colab.research.google.com/assets/colab-badge.svg\" alt=\"Open In Colab\"/></a>"
      ]
    },
    {
      "cell_type": "code",
      "execution_count": null,
      "metadata": {
        "colab": {
          "base_uri": "https://localhost:8080/"
        },
        "id": "8UEsQr4ICy0f",
        "outputId": "1a980245-2e23-4b65-8249-c950de3f14db"
      },
      "outputs": [
        {
          "output_type": "stream",
          "name": "stdout",
          "text": [
            "Enter the desired number:6\n",
            "***********************\n",
            "*                     *\n",
            "* Your number is even *\n",
            "*                     *\n",
            "***********************\n",
            "\n",
            "*********************************\n",
            "*                               *\n",
            "* Your number is divisible by 3 *\n",
            "*                               *\n",
            "*********************************\n",
            "\n",
            "*************************************\n",
            "*                                   *\n",
            "* Your number is not divisible by 5 *\n",
            "*                                   *\n",
            "*************************************\n",
            "\n"
          ]
        }
      ],
      "source": [
        "userinput = int(input(\"Enter the desired number:\"))\n",
        "divisor2=2\n",
        "\n",
        "\n",
        "def divisible2(userinput,divisor2):\n",
        "  def seerat():\n",
        "    print(\"**\"+\"*\"*len(result)+\"**\"+\"\\n\"+\"* \"+\" \"*len(result)+\"\"+\" *\")\n",
        "    print(\"* \"+result +\"\"+\" *\"+\"\\n\"+\"* \"+\" \"*len(result)+\"\"+\" *\"+\"\\n\"+\"**\"+\"*\"*len(result)+\"**\"+\"\\n\")\n",
        "\n",
        "  if(userinput%2==0):\n",
        "     result =(\"Your number is even\")\n",
        "     seerat()\n",
        "\n",
        "  else:\n",
        "       result= (\"Your number is odd\")\n",
        "       seerat()\n",
        "\n",
        "  if(userinput%3==0):\n",
        "   result =(\"Your number is divisible by 3\")\n",
        "   seerat()\n",
        "  else:\n",
        "     result= (\"Your number is not divisible by 3\")\n",
        "     seerat()\n",
        "  if(userinput%5==0):\n",
        "     result =(\"Your number is divisible by 5\")\n",
        "     seerat()\n",
        "  else:\n",
        "    result= (\"Your number is not divisible by 5\")\n",
        "    seerat()\n",
        "\n",
        "divisible2(userinput,divisor2)"
      ]
    }
  ]
}